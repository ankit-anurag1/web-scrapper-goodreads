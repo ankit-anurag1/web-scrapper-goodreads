{
 "cells": [
  {
   "cell_type": "code",
   "execution_count": 1,
   "metadata": {},
   "outputs": [],
   "source": [
    "import requests\n",
    "from bs4 import BeautifulSoup as bs"
   ]
  },
  {
   "cell_type": "code",
   "execution_count": 2,
   "metadata": {},
   "outputs": [],
   "source": [
    "url = \"https://www.goodreads.com/\"\n",
    "res = requests.get(url)\n",
    "soup = bs(res.text)"
   ]
  },
  {
   "cell_type": "code",
   "execution_count": 3,
   "metadata": {},
   "outputs": [
    {
     "name": "stdout",
     "output_type": "stream",
     "text": [
      "List of available genres: \n",
      "1\tArt\n",
      "2\tBiography\n",
      "3\tBusiness\n",
      "4\tChildren's\n",
      "5\tChristian\n",
      "6\tClassics\n",
      "7\tComics\n",
      "8\tCookbooks\n",
      "9\tEbooks\n",
      "10\tFantasy\n",
      "11\tFiction\n",
      "12\tGraphic Novels\n",
      "13\tHistorical Fiction\n",
      "14\tHistory\n",
      "15\tHorror\n",
      "16\tMemoir\n",
      "17\tMusic\n",
      "18\tMystery\n",
      "19\tNonfiction\n",
      "20\tPoetry\n",
      "21\tPsychology\n",
      "22\tRomance\n",
      "23\tScience\n",
      "24\tScience Fiction\n",
      "25\tSelf Help\n",
      "26\tSports\n",
      "27\tThriller\n",
      "28\tTravel\n",
      "29\tYoung Adult\n",
      "30\tMore genres\n"
     ]
    }
   ],
   "source": [
    "category = soup.find(id=\"browseBox\")\n",
    "genres = category.find_all(name='a', class_='gr-hyperlink')\n",
    "genre_list = [genre.text.lower() for genre in genres]\n",
    "print(\"List of available genres: \")\n",
    "for ind, genre in enumerate(genres):\n",
    "    print(ind + 1, genre.text, sep=\"\\t\")"
   ]
  },
  {
   "cell_type": "code",
   "execution_count": 4,
   "metadata": {},
   "outputs": [],
   "source": [
    "url_most_read = url + \"genres/most_read\"\n",
    "url_popular = url + \"shelf/show\""
   ]
  },
  {
   "cell_type": "code",
   "execution_count": 5,
   "metadata": {},
   "outputs": [
    {
     "name": "stdout",
     "output_type": "stream",
     "text": [
      "Enter the genre you wish to find books in: poetry\n"
     ]
    }
   ],
   "source": [
    "inp_genre = input(\"Enter the genre you wish to find books in: \").lower()\n",
    "genre_url = ''\n",
    "if inp_genre in genre_list:\n",
    "    genre_url_popular = url_popular + genres[genre_list.index(inp_genre)]['href'][7:]\n",
    "    genre_url_most_read = url_most_read + genres[genre_list.index(inp_genre)]['href'][7:]\n",
    "else:\n",
    "    print(\"Incorrect entry :\", inp_genre)\n",
    "genre_most_read = bs(requests.get(genre_url_most_read).text)\n",
    "genre_popular = bs(requests.get(genre_url_popular).text)"
   ]
  },
  {
   "cell_type": "code",
   "execution_count": 14,
   "metadata": {},
   "outputs": [],
   "source": [
    "#most read : mr\n",
    "book_list_mr = [(' ').join(elem.find(\"a\")['href'][20:].split('-')).title() \n",
    "                for elem in genre_most_read.find_all(class_='coverWrapper')[:40] \n",
    "                if elem.find(\"a\") is not None and len(elem.find(\"a\")['href']) > 20]\n",
    "\n",
    "#popular\n",
    "book_list_popular = [ elem.find(class_=\"bookTitle\").text.split('(')[0]  \n",
    "                     for elem in genre_popular.find(class_=\"leftContainer\").find_all(class_=\"elementList\")[:40] \n",
    "                     if elem.find(class_=\"bookTitle\") is not None]"
   ]
  },
  {
   "cell_type": "code",
   "execution_count": 16,
   "metadata": {},
   "outputs": [
    {
     "name": "stdout",
     "output_type": "stream",
     "text": [
      "Most Read This Week in the category : poetry\n",
      "1\tThe Sun And Her Flowers\n",
      "2\tBreak Your Glass Slippers\n",
      "3\tLong Way Down\n",
      "4\tLittle Weirds\n",
      "5\tLanny\n",
      "6\tThe Mermaid S Voice Returns In This One\n",
      "7\tYear Of The Monkey\n",
      "8\tHow We Fight For Our Lives\n",
      "9\tThe Truth About Magic\n",
      "10\tTo Drink Coffee With A Ghost\n",
      "11\tRedwood And Ponytail\n",
      "12\tO Peso Do P Ssaro Morto\n",
      "13\tSplit Tooth\n",
      "14\tHouse Arrest\n",
      "15\tLost For Words\n",
      "16\tThe Book Of Delights\n",
      "17\tThe End We Start From\n",
      "18\tI Hope This Reaches Her In Time\n",
      "19\tBring Down The Stars\n",
      "20\tSwing\n",
      "\n",
      "\n",
      "Popular books in the category : poetry\n",
      "1\tMilk and Honey \n",
      "2\tWhere the Sidewalk Ends \n",
      "3\tThe Sun and Her Flowers \n",
      "4\tThe Princess Saves Herself in This One \n",
      "5\tLeaves of Grass \n",
      "6\tA Light in the Attic \n",
      "7\tAriel \n",
      "8\tHowl and Other Poems \n",
      "9\tThe Odyssey \n",
      "10\tThe Complete Poems of Emily Dickinson \n",
      "11\tBeowulf \n",
      "12\tParadise Lost \n",
      "13\tThe Iliad \n",
      "14\tTwenty Love Poems and a Song of Despair \n",
      "15\tShakespeare's Sonnets \n",
      "16\tThe Waste Land and Other Poems \n",
      "17\tLes Fleurs du Mal \n",
      "18\tThe Complete Stories and Poems \n",
      "19\tThe Witch Doesn't Burn in This One \n",
      "20\tCitizen: An American Lyric \n"
     ]
    }
   ],
   "source": [
    "print(\"Most Read This Week in the category :\", inp_genre)\n",
    "for ind, elem in enumerate(book_list_mr[:20]):\n",
    "    print(ind+1, elem, sep=\"\\t\")\n",
    "    \n",
    "    \n",
    "print(\"\\n\\nPopular books in the category :\", inp_genre)    \n",
    "for ind, elem in enumerate(book_list_popular[:20]):\n",
    "    print(ind+1, elem, sep=\"\\t\")"
   ]
  },
  {
   "cell_type": "code",
   "execution_count": null,
   "metadata": {},
   "outputs": [],
   "source": []
  }
 ],
 "metadata": {
  "kernelspec": {
   "display_name": "Python 3",
   "language": "python",
   "name": "python3"
  },
  "language_info": {
   "codemirror_mode": {
    "name": "ipython",
    "version": 3
   },
   "file_extension": ".py",
   "mimetype": "text/x-python",
   "name": "python",
   "nbconvert_exporter": "python",
   "pygments_lexer": "ipython3",
   "version": "3.7.6"
  }
 },
 "nbformat": 4,
 "nbformat_minor": 4
}
